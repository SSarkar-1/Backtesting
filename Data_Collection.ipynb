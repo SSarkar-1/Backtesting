{
 "cells": [
  {
   "cell_type": "code",
   "execution_count": null,
   "id": "b0cf695c",
   "metadata": {},
   "outputs": [],
   "source": [
    "#Installing Nessacery Libraries\n",
    "import pandas as pd\n",
    "import yfinance as yf"
   ]
  },
  {
   "cell_type": "code",
   "execution_count": null,
   "id": "e9ca645f",
   "metadata": {},
   "outputs": [],
   "source": [
    "#Some Stocks for backtesting analysis.Can be custimised as you wish\n",
    "stocks=['HAL.NS','LT.NS','HCLTECH.NS','CAMS.NS','RELIANCE.NS']\n",
    "for i in stocks:\n",
    "    data=yf.download(i)\n",
    "    data.to_csv(f'./Data./{i}.csv')             "
   ]
  }
 ],
 "metadata": {
  "kernelspec": {
   "display_name": "base",
   "language": "python",
   "name": "python3"
  },
  "language_info": {
   "codemirror_mode": {
    "name": "ipython",
    "version": 3
   },
   "file_extension": ".py",
   "mimetype": "text/x-python",
   "name": "python",
   "nbconvert_exporter": "python",
   "pygments_lexer": "ipython3",
   "version": "3.12.7"
  }
 },
 "nbformat": 4,
 "nbformat_minor": 5
}
